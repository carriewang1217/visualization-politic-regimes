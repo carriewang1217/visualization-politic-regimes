{
 "cells": [
  {
   "cell_type": "code",
   "execution_count": 1,
   "id": "a039b5f4",
   "metadata": {},
   "outputs": [],
   "source": [
    "import pandas as pd\n",
    "import os\n",
    "import geopandas as gpd\n",
    "import cartopy.io.shapereader as shpreader    \n",
    "# Note: you might have to install this package.\n",
    "# Try \"pip install cartopy\" or \"conda install -c conda-forge cartopy\"\n",
    "import country_converter as coco              \n",
    "# Note: you might have to install this package.\n",
    "# Try \"pip install country_converter --upgrade\" or \"conda install country_converter\"\n",
    "import seaborn as sns\n",
    "import geopandas\n",
    "from geopandas import GeoDataFrame\n",
    "import json\n",
    "from math import log\n",
    "import bokeh\n",
    "from bokeh.plotting import figure, show\n",
    "from bokeh.models import LinearInterpolator, GeoJSONDataSource, LinearColorMapper, ColorBar, HoverTool, Slider\n",
    "from bokeh.models import  ColumnDataSource,Range1d, LabelSet, Label\n",
    "from bokeh.palettes import brewer, Spectral6, Spectral5\n",
    "from bokeh.transform import linear_cmap, factor_cmap\n",
    "from bokeh.layouts import column, row\n",
    "from ipywidgets import interact, Dropdown, IntSlider, widgets"
   ]
  },
  {
   "cell_type": "code",
   "execution_count": 2,
   "id": "ed394ca0",
   "metadata": {},
   "outputs": [
    {
     "data": {
      "text/html": [
       "\n",
       "    <div class=\"bk-root\">\n",
       "        <a href=\"https://bokeh.org\" target=\"_blank\" class=\"bk-logo bk-logo-small bk-logo-notebook\"></a>\n",
       "        <span id=\"1002\">Loading BokehJS ...</span>\n",
       "    </div>"
      ]
     },
     "metadata": {},
     "output_type": "display_data"
    },
    {
     "data": {
      "application/javascript": [
       "\n",
       "(function(root) {\n",
       "  function now() {\n",
       "    return new Date();\n",
       "  }\n",
       "\n",
       "  const force = true;\n",
       "\n",
       "  if (typeof root._bokeh_onload_callbacks === \"undefined\" || force === true) {\n",
       "    root._bokeh_onload_callbacks = [];\n",
       "    root._bokeh_is_loading = undefined;\n",
       "  }\n",
       "\n",
       "  const JS_MIME_TYPE = 'application/javascript';\n",
       "  const HTML_MIME_TYPE = 'text/html';\n",
       "  const EXEC_MIME_TYPE = 'application/vnd.bokehjs_exec.v0+json';\n",
       "  const CLASS_NAME = 'output_bokeh rendered_html';\n",
       "\n",
       "  /**\n",
       "   * Render data to the DOM node\n",
       "   */\n",
       "  function render(props, node) {\n",
       "    const script = document.createElement(\"script\");\n",
       "    node.appendChild(script);\n",
       "  }\n",
       "\n",
       "  /**\n",
       "   * Handle when an output is cleared or removed\n",
       "   */\n",
       "  function handleClearOutput(event, handle) {\n",
       "    const cell = handle.cell;\n",
       "\n",
       "    const id = cell.output_area._bokeh_element_id;\n",
       "    const server_id = cell.output_area._bokeh_server_id;\n",
       "    // Clean up Bokeh references\n",
       "    if (id != null && id in Bokeh.index) {\n",
       "      Bokeh.index[id].model.document.clear();\n",
       "      delete Bokeh.index[id];\n",
       "    }\n",
       "\n",
       "    if (server_id !== undefined) {\n",
       "      // Clean up Bokeh references\n",
       "      const cmd_clean = \"from bokeh.io.state import curstate; print(curstate().uuid_to_server['\" + server_id + \"'].get_sessions()[0].document.roots[0]._id)\";\n",
       "      cell.notebook.kernel.execute(cmd_clean, {\n",
       "        iopub: {\n",
       "          output: function(msg) {\n",
       "            const id = msg.content.text.trim();\n",
       "            if (id in Bokeh.index) {\n",
       "              Bokeh.index[id].model.document.clear();\n",
       "              delete Bokeh.index[id];\n",
       "            }\n",
       "          }\n",
       "        }\n",
       "      });\n",
       "      // Destroy server and session\n",
       "      const cmd_destroy = \"import bokeh.io.notebook as ion; ion.destroy_server('\" + server_id + \"')\";\n",
       "      cell.notebook.kernel.execute(cmd_destroy);\n",
       "    }\n",
       "  }\n",
       "\n",
       "  /**\n",
       "   * Handle when a new output is added\n",
       "   */\n",
       "  function handleAddOutput(event, handle) {\n",
       "    const output_area = handle.output_area;\n",
       "    const output = handle.output;\n",
       "\n",
       "    // limit handleAddOutput to display_data with EXEC_MIME_TYPE content only\n",
       "    if ((output.output_type != \"display_data\") || (!Object.prototype.hasOwnProperty.call(output.data, EXEC_MIME_TYPE))) {\n",
       "      return\n",
       "    }\n",
       "\n",
       "    const toinsert = output_area.element.find(\".\" + CLASS_NAME.split(' ')[0]);\n",
       "\n",
       "    if (output.metadata[EXEC_MIME_TYPE][\"id\"] !== undefined) {\n",
       "      toinsert[toinsert.length - 1].firstChild.textContent = output.data[JS_MIME_TYPE];\n",
       "      // store reference to embed id on output_area\n",
       "      output_area._bokeh_element_id = output.metadata[EXEC_MIME_TYPE][\"id\"];\n",
       "    }\n",
       "    if (output.metadata[EXEC_MIME_TYPE][\"server_id\"] !== undefined) {\n",
       "      const bk_div = document.createElement(\"div\");\n",
       "      bk_div.innerHTML = output.data[HTML_MIME_TYPE];\n",
       "      const script_attrs = bk_div.children[0].attributes;\n",
       "      for (let i = 0; i < script_attrs.length; i++) {\n",
       "        toinsert[toinsert.length - 1].firstChild.setAttribute(script_attrs[i].name, script_attrs[i].value);\n",
       "        toinsert[toinsert.length - 1].firstChild.textContent = bk_div.children[0].textContent\n",
       "      }\n",
       "      // store reference to server id on output_area\n",
       "      output_area._bokeh_server_id = output.metadata[EXEC_MIME_TYPE][\"server_id\"];\n",
       "    }\n",
       "  }\n",
       "\n",
       "  function register_renderer(events, OutputArea) {\n",
       "\n",
       "    function append_mime(data, metadata, element) {\n",
       "      // create a DOM node to render to\n",
       "      const toinsert = this.create_output_subarea(\n",
       "        metadata,\n",
       "        CLASS_NAME,\n",
       "        EXEC_MIME_TYPE\n",
       "      );\n",
       "      this.keyboard_manager.register_events(toinsert);\n",
       "      // Render to node\n",
       "      const props = {data: data, metadata: metadata[EXEC_MIME_TYPE]};\n",
       "      render(props, toinsert[toinsert.length - 1]);\n",
       "      element.append(toinsert);\n",
       "      return toinsert\n",
       "    }\n",
       "\n",
       "    /* Handle when an output is cleared or removed */\n",
       "    events.on('clear_output.CodeCell', handleClearOutput);\n",
       "    events.on('delete.Cell', handleClearOutput);\n",
       "\n",
       "    /* Handle when a new output is added */\n",
       "    events.on('output_added.OutputArea', handleAddOutput);\n",
       "\n",
       "    /**\n",
       "     * Register the mime type and append_mime function with output_area\n",
       "     */\n",
       "    OutputArea.prototype.register_mime_type(EXEC_MIME_TYPE, append_mime, {\n",
       "      /* Is output safe? */\n",
       "      safe: true,\n",
       "      /* Index of renderer in `output_area.display_order` */\n",
       "      index: 0\n",
       "    });\n",
       "  }\n",
       "\n",
       "  // register the mime type if in Jupyter Notebook environment and previously unregistered\n",
       "  if (root.Jupyter !== undefined) {\n",
       "    const events = require('base/js/events');\n",
       "    const OutputArea = require('notebook/js/outputarea').OutputArea;\n",
       "\n",
       "    if (OutputArea.prototype.mime_types().indexOf(EXEC_MIME_TYPE) == -1) {\n",
       "      register_renderer(events, OutputArea);\n",
       "    }\n",
       "  }\n",
       "\n",
       "  \n",
       "  if (typeof (root._bokeh_timeout) === \"undefined\" || force === true) {\n",
       "    root._bokeh_timeout = Date.now() + 5000;\n",
       "    root._bokeh_failed_load = false;\n",
       "  }\n",
       "\n",
       "  const NB_LOAD_WARNING = {'data': {'text/html':\n",
       "     \"<div style='background-color: #fdd'>\\n\"+\n",
       "     \"<p>\\n\"+\n",
       "     \"BokehJS does not appear to have successfully loaded. If loading BokehJS from CDN, this \\n\"+\n",
       "     \"may be due to a slow or bad network connection. Possible fixes:\\n\"+\n",
       "     \"</p>\\n\"+\n",
       "     \"<ul>\\n\"+\n",
       "     \"<li>re-rerun `output_notebook()` to attempt to load from CDN again, or</li>\\n\"+\n",
       "     \"<li>use INLINE resources instead, as so:</li>\\n\"+\n",
       "     \"</ul>\\n\"+\n",
       "     \"<code>\\n\"+\n",
       "     \"from bokeh.resources import INLINE\\n\"+\n",
       "     \"output_notebook(resources=INLINE)\\n\"+\n",
       "     \"</code>\\n\"+\n",
       "     \"</div>\"}};\n",
       "\n",
       "  function display_loaded() {\n",
       "    const el = document.getElementById(\"1002\");\n",
       "    if (el != null) {\n",
       "      el.textContent = \"BokehJS is loading...\";\n",
       "    }\n",
       "    if (root.Bokeh !== undefined) {\n",
       "      if (el != null) {\n",
       "        el.textContent = \"BokehJS \" + root.Bokeh.version + \" successfully loaded.\";\n",
       "      }\n",
       "    } else if (Date.now() < root._bokeh_timeout) {\n",
       "      setTimeout(display_loaded, 100)\n",
       "    }\n",
       "  }\n",
       "\n",
       "\n",
       "  function run_callbacks() {\n",
       "    try {\n",
       "      root._bokeh_onload_callbacks.forEach(function(callback) {\n",
       "        if (callback != null)\n",
       "          callback();\n",
       "      });\n",
       "    } finally {\n",
       "      delete root._bokeh_onload_callbacks\n",
       "    }\n",
       "    console.debug(\"Bokeh: all callbacks have finished\");\n",
       "  }\n",
       "\n",
       "  function load_libs(css_urls, js_urls, callback) {\n",
       "    if (css_urls == null) css_urls = [];\n",
       "    if (js_urls == null) js_urls = [];\n",
       "\n",
       "    root._bokeh_onload_callbacks.push(callback);\n",
       "    if (root._bokeh_is_loading > 0) {\n",
       "      console.debug(\"Bokeh: BokehJS is being loaded, scheduling callback at\", now());\n",
       "      return null;\n",
       "    }\n",
       "    if (js_urls == null || js_urls.length === 0) {\n",
       "      run_callbacks();\n",
       "      return null;\n",
       "    }\n",
       "    console.debug(\"Bokeh: BokehJS not loaded, scheduling load and callback at\", now());\n",
       "    root._bokeh_is_loading = css_urls.length + js_urls.length;\n",
       "\n",
       "    function on_load() {\n",
       "      root._bokeh_is_loading--;\n",
       "      if (root._bokeh_is_loading === 0) {\n",
       "        console.debug(\"Bokeh: all BokehJS libraries/stylesheets loaded\");\n",
       "        run_callbacks()\n",
       "      }\n",
       "    }\n",
       "\n",
       "    function on_error(url) {\n",
       "      console.error(\"failed to load \" + url);\n",
       "    }\n",
       "\n",
       "    for (let i = 0; i < css_urls.length; i++) {\n",
       "      const url = css_urls[i];\n",
       "      const element = document.createElement(\"link\");\n",
       "      element.onload = on_load;\n",
       "      element.onerror = on_error.bind(null, url);\n",
       "      element.rel = \"stylesheet\";\n",
       "      element.type = \"text/css\";\n",
       "      element.href = url;\n",
       "      console.debug(\"Bokeh: injecting link tag for BokehJS stylesheet: \", url);\n",
       "      document.body.appendChild(element);\n",
       "    }\n",
       "\n",
       "    for (let i = 0; i < js_urls.length; i++) {\n",
       "      const url = js_urls[i];\n",
       "      const element = document.createElement('script');\n",
       "      element.onload = on_load;\n",
       "      element.onerror = on_error.bind(null, url);\n",
       "      element.async = false;\n",
       "      element.src = url;\n",
       "      console.debug(\"Bokeh: injecting script tag for BokehJS library: \", url);\n",
       "      document.head.appendChild(element);\n",
       "    }\n",
       "  };\n",
       "\n",
       "  function inject_raw_css(css) {\n",
       "    const element = document.createElement(\"style\");\n",
       "    element.appendChild(document.createTextNode(css));\n",
       "    document.body.appendChild(element);\n",
       "  }\n",
       "\n",
       "  \n",
       "  const js_urls = [\"https://cdn.bokeh.org/bokeh/release/bokeh-2.4.1.min.js\", \"https://cdn.bokeh.org/bokeh/release/bokeh-gl-2.4.1.min.js\", \"https://cdn.bokeh.org/bokeh/release/bokeh-widgets-2.4.1.min.js\", \"https://cdn.bokeh.org/bokeh/release/bokeh-tables-2.4.1.min.js\", \"https://cdn.bokeh.org/bokeh/release/bokeh-mathjax-2.4.1.min.js\"];\n",
       "  const css_urls = [];\n",
       "  \n",
       "\n",
       "  const inline_js = [\n",
       "    function(Bokeh) {\n",
       "      Bokeh.set_log_level(\"info\");\n",
       "    },\n",
       "    function(Bokeh) {\n",
       "    \n",
       "    \n",
       "    }\n",
       "  ];\n",
       "\n",
       "  function run_inline_js() {\n",
       "    \n",
       "    if (root.Bokeh !== undefined || force === true) {\n",
       "      \n",
       "    for (let i = 0; i < inline_js.length; i++) {\n",
       "      inline_js[i].call(root, root.Bokeh);\n",
       "    }\n",
       "    if (force === true) {\n",
       "        display_loaded();\n",
       "      }} else if (Date.now() < root._bokeh_timeout) {\n",
       "      setTimeout(run_inline_js, 100);\n",
       "    } else if (!root._bokeh_failed_load) {\n",
       "      console.log(\"Bokeh: BokehJS failed to load within specified timeout.\");\n",
       "      root._bokeh_failed_load = true;\n",
       "    } else if (force !== true) {\n",
       "      const cell = $(document.getElementById(\"1002\")).parents('.cell').data().cell;\n",
       "      cell.output_area.append_execute_result(NB_LOAD_WARNING)\n",
       "    }\n",
       "\n",
       "  }\n",
       "\n",
       "  if (root._bokeh_is_loading === 0) {\n",
       "    console.debug(\"Bokeh: BokehJS loaded, going straight to plotting\");\n",
       "    run_inline_js();\n",
       "  } else {\n",
       "    load_libs(css_urls, js_urls, function() {\n",
       "      console.debug(\"Bokeh: BokehJS plotting callback run at\", now());\n",
       "      run_inline_js();\n",
       "    });\n",
       "  }\n",
       "}(window));"
      ],
      "application/vnd.bokehjs_load.v0+json": "\n(function(root) {\n  function now() {\n    return new Date();\n  }\n\n  const force = true;\n\n  if (typeof root._bokeh_onload_callbacks === \"undefined\" || force === true) {\n    root._bokeh_onload_callbacks = [];\n    root._bokeh_is_loading = undefined;\n  }\n\n  \n\n  \n  if (typeof (root._bokeh_timeout) === \"undefined\" || force === true) {\n    root._bokeh_timeout = Date.now() + 5000;\n    root._bokeh_failed_load = false;\n  }\n\n  const NB_LOAD_WARNING = {'data': {'text/html':\n     \"<div style='background-color: #fdd'>\\n\"+\n     \"<p>\\n\"+\n     \"BokehJS does not appear to have successfully loaded. If loading BokehJS from CDN, this \\n\"+\n     \"may be due to a slow or bad network connection. Possible fixes:\\n\"+\n     \"</p>\\n\"+\n     \"<ul>\\n\"+\n     \"<li>re-rerun `output_notebook()` to attempt to load from CDN again, or</li>\\n\"+\n     \"<li>use INLINE resources instead, as so:</li>\\n\"+\n     \"</ul>\\n\"+\n     \"<code>\\n\"+\n     \"from bokeh.resources import INLINE\\n\"+\n     \"output_notebook(resources=INLINE)\\n\"+\n     \"</code>\\n\"+\n     \"</div>\"}};\n\n  function display_loaded() {\n    const el = document.getElementById(\"1002\");\n    if (el != null) {\n      el.textContent = \"BokehJS is loading...\";\n    }\n    if (root.Bokeh !== undefined) {\n      if (el != null) {\n        el.textContent = \"BokehJS \" + root.Bokeh.version + \" successfully loaded.\";\n      }\n    } else if (Date.now() < root._bokeh_timeout) {\n      setTimeout(display_loaded, 100)\n    }\n  }\n\n\n  function run_callbacks() {\n    try {\n      root._bokeh_onload_callbacks.forEach(function(callback) {\n        if (callback != null)\n          callback();\n      });\n    } finally {\n      delete root._bokeh_onload_callbacks\n    }\n    console.debug(\"Bokeh: all callbacks have finished\");\n  }\n\n  function load_libs(css_urls, js_urls, callback) {\n    if (css_urls == null) css_urls = [];\n    if (js_urls == null) js_urls = [];\n\n    root._bokeh_onload_callbacks.push(callback);\n    if (root._bokeh_is_loading > 0) {\n      console.debug(\"Bokeh: BokehJS is being loaded, scheduling callback at\", now());\n      return null;\n    }\n    if (js_urls == null || js_urls.length === 0) {\n      run_callbacks();\n      return null;\n    }\n    console.debug(\"Bokeh: BokehJS not loaded, scheduling load and callback at\", now());\n    root._bokeh_is_loading = css_urls.length + js_urls.length;\n\n    function on_load() {\n      root._bokeh_is_loading--;\n      if (root._bokeh_is_loading === 0) {\n        console.debug(\"Bokeh: all BokehJS libraries/stylesheets loaded\");\n        run_callbacks()\n      }\n    }\n\n    function on_error(url) {\n      console.error(\"failed to load \" + url);\n    }\n\n    for (let i = 0; i < css_urls.length; i++) {\n      const url = css_urls[i];\n      const element = document.createElement(\"link\");\n      element.onload = on_load;\n      element.onerror = on_error.bind(null, url);\n      element.rel = \"stylesheet\";\n      element.type = \"text/css\";\n      element.href = url;\n      console.debug(\"Bokeh: injecting link tag for BokehJS stylesheet: \", url);\n      document.body.appendChild(element);\n    }\n\n    for (let i = 0; i < js_urls.length; i++) {\n      const url = js_urls[i];\n      const element = document.createElement('script');\n      element.onload = on_load;\n      element.onerror = on_error.bind(null, url);\n      element.async = false;\n      element.src = url;\n      console.debug(\"Bokeh: injecting script tag for BokehJS library: \", url);\n      document.head.appendChild(element);\n    }\n  };\n\n  function inject_raw_css(css) {\n    const element = document.createElement(\"style\");\n    element.appendChild(document.createTextNode(css));\n    document.body.appendChild(element);\n  }\n\n  \n  const js_urls = [\"https://cdn.bokeh.org/bokeh/release/bokeh-2.4.1.min.js\", \"https://cdn.bokeh.org/bokeh/release/bokeh-gl-2.4.1.min.js\", \"https://cdn.bokeh.org/bokeh/release/bokeh-widgets-2.4.1.min.js\", \"https://cdn.bokeh.org/bokeh/release/bokeh-tables-2.4.1.min.js\", \"https://cdn.bokeh.org/bokeh/release/bokeh-mathjax-2.4.1.min.js\"];\n  const css_urls = [];\n  \n\n  const inline_js = [\n    function(Bokeh) {\n      Bokeh.set_log_level(\"info\");\n    },\n    function(Bokeh) {\n    \n    \n    }\n  ];\n\n  function run_inline_js() {\n    \n    if (root.Bokeh !== undefined || force === true) {\n      \n    for (let i = 0; i < inline_js.length; i++) {\n      inline_js[i].call(root, root.Bokeh);\n    }\n    if (force === true) {\n        display_loaded();\n      }} else if (Date.now() < root._bokeh_timeout) {\n      setTimeout(run_inline_js, 100);\n    } else if (!root._bokeh_failed_load) {\n      console.log(\"Bokeh: BokehJS failed to load within specified timeout.\");\n      root._bokeh_failed_load = true;\n    } else if (force !== true) {\n      const cell = $(document.getElementById(\"1002\")).parents('.cell').data().cell;\n      cell.output_area.append_execute_result(NB_LOAD_WARNING)\n    }\n\n  }\n\n  if (root._bokeh_is_loading === 0) {\n    console.debug(\"Bokeh: BokehJS loaded, going straight to plotting\");\n    run_inline_js();\n  } else {\n    load_libs(css_urls, js_urls, function() {\n      console.debug(\"Bokeh: BokehJS plotting callback run at\", now());\n      run_inline_js();\n    });\n  }\n}(window));"
     },
     "metadata": {},
     "output_type": "display_data"
    }
   ],
   "source": [
    "from bokeh.io import output_notebook\n",
    "output_notebook()"
   ]
  },
  {
   "cell_type": "code",
   "execution_count": 3,
   "id": "b94bb71c",
   "metadata": {},
   "outputs": [],
   "source": [
    "# Loading datasets:\n",
    "PATH = r'C:\\Users\\monic\\Documents\\GitHub\\final-project-final-project-carrie-monica-yu\\Data'\n",
    "PATH2 = r'C:\\Users\\monic\\Documents\\GitHub\\final-project-final-project-carrie-monica-yu\\Final dataframes'\n",
    "FNAME = 'combined.csv'\n",
    "FNAME2 = 'DI.csv'\n",
    "combined = pd.read_csv(os.path.join(PATH2, FNAME))\n",
    "DI = pd.read_csv(os.path.join(PATH2, FNAME2))"
   ]
  },
  {
   "cell_type": "code",
   "execution_count": 4,
   "id": "b0298ae5",
   "metadata": {},
   "outputs": [
    {
     "name": "stderr",
     "output_type": "stream",
     "text": [
      "Indian Ocean Territories not found in regex\n",
      "Ashmore and Cartier Islands not found in regex\n",
      "Siachen Glacier not found in regex\n"
     ]
    }
   ],
   "source": [
    "### Merging the two datasets (i.e., DI and combined) with the shapefile:\n",
    "def get_worldshp(fname):\n",
    "    countries = gpd.read_file(fname)\n",
    "    countries = countries[['NAME_LONG', 'geometry']]\n",
    "    countries = countries.replace({'SÃ£o TomÃ© and Principe': 'São Tomé and Principe',\n",
    "                         'CuraÃ§ao': 'Curaçao',\n",
    "                         'Saint-BarthÃ©lemy': 'Saint-Barthélemy',\n",
    "                         \"CÃ´te d'Ivoire\": \"Côte d'Ivoire\"})\n",
    "    countries.iloc[168, 0:1] = 'Åland Islands'\n",
    "    return countries\n",
    "\n",
    "# Downloading the Natural Earth medium scale shapefiles:\n",
    "shp_fname = shpreader.natural_earth(resolution='50m', category='cultural', name='admin_0_countries')\n",
    "\n",
    "# Loading shapefile and standardizing its country names:\n",
    "df_shp = get_worldshp(fname=shp_fname)\n",
    "df_shp['Country'] = coco.convert(names=df_shp['NAME_LONG'], to='name_short')\n",
    "\n",
    "# Merging DI (i.e. the data for the 5 components of the EIU Democracy Index) with the shapefile:\n",
    "DI_shape = DI.merge(df_shp, on='Country', how='left')\n",
    "DI_gdf = GeoDataFrame(DI_shape, crs='EPSG:4326', geometry=DI_shape['geometry'])\n",
    "\n",
    "# Merging the combined dataset with the shapefile:\n",
    "combined_gdf = combined.merge(df_shp, on='Country', how='left')\n",
    "combined_gdf = GeoDataFrame(combined_gdf, crs='EPSG:4326', geometry=combined_gdf['geometry'])"
   ]
  },
  {
   "cell_type": "code",
   "execution_count": 5,
   "id": "4fe60aef",
   "metadata": {},
   "outputs": [],
   "source": [
    "# List of indicators that we are interested in:\n",
    "cols = list(combined.columns)[3:18]"
   ]
  },
  {
   "cell_type": "markdown",
   "id": "8a7ff094",
   "metadata": {},
   "source": [
    "## Interactive choropleths\n",
    "\n",
    "### 2020 Democracy Index and its 5 components:"
   ]
  },
  {
   "cell_type": "code",
   "execution_count": 6,
   "id": "006b2732",
   "metadata": {},
   "outputs": [],
   "source": [
    "# Converting geopandas dataframe to geoJSON dataframe:\n",
    "DI_geojson = GeoJSONDataSource(geojson=DI_gdf.to_json())\n",
    "# Picking columns that correspond to indicators:\n",
    "DI_cols = DI_gdf.columns[1:7]"
   ]
  },
  {
   "cell_type": "code",
   "execution_count": 7,
   "id": "bc769776",
   "metadata": {},
   "outputs": [],
   "source": [
    "def plot_DI(df, Variable):\n",
    "    palette = brewer['RdYlGn'][9][::-1]\n",
    "    cmap = LinearColorMapper(palette=palette)\n",
    "    # Plotting the choropleth:\n",
    "    plot = figure(title=\"Democracy Index\",\n",
    "                  plot_height=400,\n",
    "                  plot_width=800)\n",
    "    countries = plot.patches(\"xs\", \"ys\", source=df,\n",
    "                             fill_color={\"field\":Variable, \"transform\":cmap},\n",
    "                             line_color=\"black\", line_width = 0.25, fill_alpha=1)\n",
    "    # Formatting:\n",
    "    plot.xgrid.grid_line_color = None\n",
    "    plot.ygrid.grid_line_color = None\n",
    "    plot.axis.visible = False\n",
    "    # Adding the hover tooltip:\n",
    "    plot.add_tools(HoverTool(renderers=[countries],\n",
    "                             tooltips='@Country: Overall Democracy Index score of @Overall'))\n",
    "    # Adding the legend:\n",
    "    color_bar = ColorBar(color_mapper=cmap, width=8,  location=(0,0), title=\"Democracy Index\")\n",
    "    plot.add_layout(color_bar, 'left')\n",
    "    return plot"
   ]
  },
  {
   "cell_type": "code",
   "execution_count": 8,
   "id": "0ff7f055",
   "metadata": {},
   "outputs": [
    {
     "data": {
      "application/vnd.jupyter.widget-view+json": {
       "model_id": "5b0bc750471c4028960189115050f6a6",
       "version_major": 2,
       "version_minor": 0
      },
      "text/plain": [
       "interactive(children=(Dropdown(description='Variable', options=('Overall', 'I: Electoral process and pluralism…"
      ]
     },
     "metadata": {},
     "output_type": "display_data"
    }
   ],
   "source": [
    "@interact(Variable=DI_cols)\n",
    "def make_plot_for_DI(Variable):\n",
    "    plot = plot_DI(df=DI_geojson, Variable=Variable)\n",
    "    show(plot)"
   ]
  },
  {
   "cell_type": "markdown",
   "id": "23cbc447",
   "metadata": {},
   "source": [
    "### Comparing the Democracy Index with indicators by year:"
   ]
  },
  {
   "cell_type": "code",
   "execution_count": 9,
   "id": "5ea0a9fd",
   "metadata": {},
   "outputs": [],
   "source": [
    "# Subsetting dataframe by year and converting geopandas dataframe to geoJSON:\n",
    "def pick_year(gdf, year):\n",
    "    df = gdf[gdf[\"Year\"] == year]\n",
    "    geosource = GeoJSONDataSource(geojson=df.to_json())\n",
    "    return geosource"
   ]
  },
  {
   "cell_type": "code",
   "execution_count": 10,
   "id": "5f061631",
   "metadata": {},
   "outputs": [],
   "source": [
    "# Plotting the choropleth for the Democracy Index:\n",
    "def choropleth_demo(df): \n",
    "    palette = brewer['RdYlGn'][9][::-1]\n",
    "    cmap = LinearColorMapper(palette=palette)\n",
    "    # Plotting choropleth:\n",
    "    plot = figure(title=f'Democracy Index',\n",
    "                  plot_height=400,\n",
    "                  plot_width=800)\n",
    "    countries = plot.patches(\"xs\", \"ys\", source=df,\n",
    "                             fill_color={\"field\":\"Democracy Index\", \"transform\":cmap},\n",
    "                             line_color=\"black\", line_width = 0.25, fill_alpha=1)\n",
    "    # Formatting:\n",
    "    plot.xgrid.grid_line_color = None\n",
    "    plot.ygrid.grid_line_color = None\n",
    "    plot.axis.visible = False\n",
    "    # Adding the hover tooltip:\n",
    "    plot.add_tools(HoverTool(renderers=[countries],\n",
    "                             tooltips=[('Country','@Country'),\n",
    "                                       ('Democracy Index','@{Democracy Index}')]))\n",
    "    # Adding the legend:\n",
    "    color_bar = ColorBar(color_mapper=cmap, width=8,  location=(0,0), title=\"Democracy Index\")\n",
    "    plot.add_layout(color_bar, 'left')\n",
    "    return plot"
   ]
  },
  {
   "cell_type": "code",
   "execution_count": 11,
   "id": "535d3ec1",
   "metadata": {},
   "outputs": [],
   "source": [
    "# Plotting choropleths for indicators:\n",
    "def choropleth_var(Variable, df):\n",
    "    # Reversing (or not) the palette depending on the indicator:\n",
    "    if Variable in (\"Democracy Index\", \"GDP per capita, PPP\",\n",
    "                    \"Foreign Investment\", \"Life Expectancy\",\n",
    "                    \"Expected Years of Schooling\", \"Expected Years of Schooling, Female\",\n",
    "                    \"Expected Years of Schooling, Male\", \"Forest Area\", \"EPI\", \"HDI\"):\n",
    "        palette = brewer['RdYlGn'][9][::-1]\n",
    "    else: \n",
    "        palette = brewer['RdYlGn'][9] \n",
    "    cmap = LinearColorMapper(palette=palette)\n",
    "    # Plotting choropleth:\n",
    "    plot = figure(title=f'{Variable}',\n",
    "                  plot_height=400,\n",
    "                  plot_width=800)\n",
    "    countries = plot.patches(\"xs\", \"ys\", source=df,\n",
    "                             fill_color={\"field\":Variable, \"transform\":cmap},\n",
    "                             line_color=\"black\", line_width = 0.25, fill_alpha=1)\n",
    "    # Formatting:\n",
    "    plot.xgrid.grid_line_color = None\n",
    "    plot.ygrid.grid_line_color = None\n",
    "    plot.axis.visible = False\n",
    "    # Adding the hover tooltip:\n",
    "    plot.add_tools(HoverTool(renderers=[countries],\n",
    "                             tooltips=[('Country','@Country')]))\n",
    "    # Adding the legend:\n",
    "    color_bar = ColorBar(color_mapper=cmap, width=8,  location=(0,0), title=f'{Variable}')\n",
    "    plot.add_layout(color_bar, 'left')\n",
    "    return plot"
   ]
  },
  {
   "cell_type": "code",
   "execution_count": 12,
   "id": "27017f9b",
   "metadata": {},
   "outputs": [],
   "source": [
    "# Creating dictionary of variables and years for which data is available:\n",
    "years = []\n",
    "for col in cols:\n",
    "    years.append(list(combined[combined[col].notna()][\"Year\"].unique()))\n",
    "avail_years = {col:years for col, years in zip(cols, years)}"
   ]
  },
  {
   "cell_type": "code",
   "execution_count": 13,
   "id": "e9176584",
   "metadata": {},
   "outputs": [],
   "source": [
    "# Making the slider (for years) dependent on the dropdown menu (for indicators)\n",
    "widget_one = Dropdown(options=avail_years.keys())\n",
    "widget_two = IntSlider(max=2020)\n",
    "# Function for updating slider based on dropdown menu option chosen.\n",
    "def update_slider(*args):\n",
    "    widget_two.min = min(avail_years[widget_one.value])\n",
    "    widget_two.max = max(avail_years[widget_one.value])\n",
    "    widget_two.value = max(avail_years[widget_one.value])\n",
    "widget_one.observe(update_slider)"
   ]
  },
  {
   "cell_type": "code",
   "execution_count": 14,
   "id": "3c00767a",
   "metadata": {},
   "outputs": [
    {
     "data": {
      "application/vnd.jupyter.widget-view+json": {
       "model_id": "844a0fc8956943f38c73c53775a1fff4",
       "version_major": 2,
       "version_minor": 0
      },
      "text/plain": [
       "interactive(children=(Dropdown(description='Variable', options=('GDP per capita, PPP', 'Unemployment, total', …"
      ]
     },
     "metadata": {},
     "output_type": "display_data"
    }
   ],
   "source": [
    "# Plotting the interactive choropleth:\n",
    "@interact(Variable=widget_one, Year=widget_two)\n",
    "def plot_choropleth(Variable, Year): \n",
    "    geosource2 = pick_year(gdf=combined_gdf, year=Year)\n",
    "    plot_demo = choropleth_demo(df=geosource2)\n",
    "    plot_var = choropleth_var(Variable=Variable, df=geosource2)\n",
    "    show(column(plot_demo, plot_var))"
   ]
  },
  {
   "cell_type": "markdown",
   "id": "c1bdb7ed",
   "metadata": {},
   "source": [
    "## Line Plots"
   ]
  },
  {
   "cell_type": "code",
   "execution_count": 15,
   "id": "84f0bd6c",
   "metadata": {},
   "outputs": [],
   "source": [
    "# Retrieving country names:\n",
    "countries = combined['Country'].unique()"
   ]
  },
  {
   "cell_type": "code",
   "execution_count": 16,
   "id": "6ef272e6",
   "metadata": {},
   "outputs": [],
   "source": [
    "# Comparing the Democracy Index of individual countries with the global average:\n",
    "def compare(df, country_name):\n",
    "    plot = figure(title=f'Democracy Index ({country_name})', x_axis_label='Year',y_axis_label='Democracy Index', plot_height=300, plot_width=350, y_range=(0,10))\n",
    "    # Caculating the global average for the Democracy Index:\n",
    "    y1 = df['Democracy Index'].groupby(df['Year']).mean()\n",
    "    # Finding the Democracy Index for a given country in a given year:\n",
    "    y2 = df[df['Country']==country_name][['Year','Democracy Index']]\n",
    "    dt = {'xs':[list(y1.index),y2['Year']], 'ys':[y1,y2['Democracy Index']], 'label': ['World Average',country_name], 'col':[\"green\", \"orange\"]}\n",
    "    plot.multi_line(xs='xs', ys='ys', color='col', legend_group = 'label',line_width = 3, source=dt) \n",
    "    return plot"
   ]
  },
  {
   "cell_type": "code",
   "execution_count": 17,
   "id": "a8d54f3d",
   "metadata": {},
   "outputs": [],
   "source": [
    "# Plotting the changing trends for both Democracy Index and a given indicator:\n",
    "def year_change(df, country_name, ind):\n",
    "    plot = figure(title=f'Variation Trend ({country_name})', x_axis_label='Year',y_axis_label='Number of Standard Deviations', plot_height=300, plot_width=500, y_range=(-3,3))\n",
    "    data = df[df['Country']==country_name]\n",
    "    # Standardizing the data to compare the changing trends:\n",
    "    y1 = list( (data['Democracy Index']-data['Democracy Index'].mean())/data['Democracy Index'].std())\n",
    "    y2 = list( (data[ind]-data[ind].mean())/data[ind].std())\n",
    "    dt = {'xs':[data['Year'],data['Year']], 'ys':[y1,y2], 'label': ['Democracy Index',ind], 'col':[\"firebrick\", \"navy\"]}\n",
    "    plot.multi_line(xs='xs', ys='ys', color='col', legend_group = 'label',line_width = 3, source=dt)\n",
    "    return plot"
   ]
  },
  {
   "cell_type": "code",
   "execution_count": 18,
   "id": "3a114532",
   "metadata": {},
   "outputs": [
    {
     "data": {
      "application/vnd.jupyter.widget-view+json": {
       "model_id": "cfd2c1ebe189459f95ddc9f30d5f67f1",
       "version_major": 2,
       "version_minor": 0
      },
      "text/plain": [
       "interactive(children=(Dropdown(description='Country', options=('Canada', 'United States', 'Austria', 'Belgium'…"
      ]
     },
     "metadata": {},
     "output_type": "display_data"
    }
   ],
   "source": [
    "@interact(Country=countries, Indicator=cols)\n",
    "def make_plot_for(Country=countries[0], Indicator=cols[0]):\n",
    "    plot1 = compare(combined, Country)\n",
    "    plot2 = year_change(combined, Country, Indicator)\n",
    "    show(row(plot1, plot2))"
   ]
  },
  {
   "cell_type": "markdown",
   "id": "4f6453b5",
   "metadata": {},
   "source": [
    "## Scatter Plot: Relationship between Democracy Index score, GDP, and HDI score"
   ]
  },
  {
   "cell_type": "code",
   "execution_count": 19,
   "id": "ffbab4b4",
   "metadata": {},
   "outputs": [],
   "source": [
    "# Calculating the log of GDP per capita (PPP):\n",
    "combined['log_GDP'] = [log(s) for s in combined['GDP per capita, PPP']]"
   ]
  },
  {
   "cell_type": "code",
   "execution_count": 20,
   "id": "53cfbc32",
   "metadata": {},
   "outputs": [],
   "source": [
    "def big_scatter_plot(df, yr):\n",
    "    df_year = df[df['Year']==yr]\n",
    "    # Making the colors of the points dependent on the Democracy Index score:\n",
    "    mapper = linear_cmap(field_name='Democracy Index', palette=Spectral6 ,low=df_year['Democracy Index'].min(),high=df_year['Democracy Index'].max())\n",
    "    # Likewise, the size of the points depends on the Democracy Index score:\n",
    "    size_mapper=LinearInterpolator(x=[df_year['Democracy Index'].min(),df_year['Democracy Index'].max()],y=[3,30])\n",
    "    plot = figure(title = \"Democracy Index, GDP per capita (PPP), and HDI\", \n",
    "               x_axis_label='GDP per capita (PPP)',y_axis_label='Human Development Index',\n",
    "               plot_height=450, plot_width=800,\n",
    "               x_range=(6,12), y_range=(0,1.2),\n",
    "               tools=\"hover\", tooltips=\"@Country: Democracy Index score of @{Democracy Index}\")\n",
    "    plot.scatter('log_GDP','HDI',source=df_year,fill_alpha=0.6, \n",
    "              size={'field':'Democracy Index','transform': size_mapper},\n",
    "              line_color=mapper,color=mapper)\n",
    "    # Adding the legend (color bar):\n",
    "    color_bar = ColorBar(color_mapper=mapper['transform'], width=8,  location=(0,0),title=\"Democracy Index\")\n",
    "    plot.add_layout(color_bar, 'right')\n",
    "    return plot"
   ]
  },
  {
   "cell_type": "code",
   "execution_count": 21,
   "id": "ce33cd0a",
   "metadata": {
    "scrolled": true
   },
   "outputs": [
    {
     "data": {
      "application/vnd.jupyter.widget-view+json": {
       "model_id": "0205864c99184c03bf275369690bfafc",
       "version_major": 2,
       "version_minor": 0
      },
      "text/plain": [
       "interactive(children=(IntSlider(value=2010, description='Year', max=2019, min=2010), Output()), _dom_classes=(…"
      ]
     },
     "metadata": {},
     "output_type": "display_data"
    }
   ],
   "source": [
    "years = (2010, 2019)\n",
    "@interact(Year = years)\n",
    "def draw_big_sp(Year = years[0]):\n",
    "    plot = big_scatter_plot(df=combined, yr=Year)\n",
    "    show(plot)\n",
    "    return plot"
   ]
  },
  {
   "cell_type": "markdown",
   "id": "ff64b2a5",
   "metadata": {},
   "source": [
    "## Scatter Plot: Comparing Democracy Index scores against all indicators"
   ]
  },
  {
   "cell_type": "code",
   "execution_count": 22,
   "id": "2cabf774",
   "metadata": {},
   "outputs": [],
   "source": [
    "combined['region'] = combined['region'].fillna('Unknown')\n",
    "index_cmap = factor_cmap('region', palette=Spectral5, \n",
    "                         factors=sorted(combined['region'].unique()))"
   ]
  },
  {
   "cell_type": "code",
   "execution_count": 23,
   "id": "847637d2",
   "metadata": {},
   "outputs": [],
   "source": [
    "# Different variables have data from different years, \n",
    "# so we need to make the dropdown menu for year selection depend on the indicator chosen.\n",
    "options = {'GDP per capita': list(range(2010, 2021)),\n",
    "            'Unemployment': list(range(2010, 2021)),\n",
    "           'GINI Index': list(range(2010, 2020)),\n",
    "           'Foreign Investment': list(range(2010, 2021)),\n",
    "           'Maternal Mortality ratio': list(range(2010, 2018)),\n",
    "           'Life Expectancy': list(range(2010, 2020)),\n",
    "           'Expected Years of Schooling': list(range(2010, 2020)),\n",
    "           'Expected Years of Schooling, Female': list(range(2010, 2020)),\n",
    "           'Expected Years of Schooling, Male': list(range(2010, 2020)),\n",
    "           'Mortality Rate, Infant': list(range(2010, 2020)),\n",
    "           'CO2 Emissions': list(range(2010, 2019)),\n",
    "           'Forest Area': list(range(2010, 2021)),\n",
    "           'Unemployment rate (female to male ratio)': list(range(2010, 2020)),\n",
    "           'EPI': [2020],\n",
    "           'HDI': list(range(2010, 2020))}\n",
    "first_widget = Dropdown(options=options.keys())\n",
    "second_widget = Dropdown()\n",
    "def update(*args):\n",
    "    second_widget.options = options[first_widget.value]\n",
    "first_widget.observe(update)"
   ]
  },
  {
   "cell_type": "code",
   "execution_count": 24,
   "id": "2c6bccfa",
   "metadata": {},
   "outputs": [],
   "source": [
    "def plot_small_scatter(df, variable, year):\n",
    "    df2 = df.rename({'Democracy Index': 'Democracy_Index',\n",
    "                     'GDP per capita, PPP': 'GDP per capita',\n",
    "                     'Unemployment, total': 'Unemployment'}, axis='columns')\n",
    "    df_Year = df2[df2['Year']==year]\n",
    "    Year = ColumnDataSource(data=df_Year)\n",
    "    p = figure(plot_width=700, plot_height=450, title = 'Democracy Index x '+ variable.replace('_', ' '), toolbar_location=None,\n",
    "          tools=\"hover\", tooltips=\"@Country: Democracy Index score of @Democracy_Index\")\n",
    "    p.scatter('Democracy_Index', variable, source=Year, fill_alpha=0.6, size=16, fill_color=index_cmap, legend_group='region')\n",
    "    p.yaxis.axis_label = variable.replace('_', ' ')\n",
    "    p.xaxis.axis_label = 'Democracy Index'\n",
    "    p.legend.location = \"top_left\"\n",
    "    return p"
   ]
  },
  {
   "cell_type": "code",
   "execution_count": 25,
   "id": "470f599a",
   "metadata": {},
   "outputs": [
    {
     "data": {
      "application/vnd.jupyter.widget-view+json": {
       "model_id": "67381eb38fdb42a59baf4f0793f7d68c",
       "version_major": 2,
       "version_minor": 0
      },
      "text/plain": [
       "interactive(children=(Dropdown(description='Variable', options=('GDP per capita', 'Unemployment', 'GINI Index'…"
      ]
     },
     "metadata": {},
     "output_type": "display_data"
    }
   ],
   "source": [
    "@interact(Variable=first_widget, Year=second_widget)\n",
    "def make_small_scatter(Variable, Year):\n",
    "    plot = plot_small_scatter(df=combined, variable=Variable, year=Year)\n",
    "    show(plot)"
   ]
  }
 ],
 "metadata": {
  "kernelspec": {
   "display_name": "Python 3 (ipykernel)",
   "language": "python",
   "name": "python3"
  },
  "language_info": {
   "codemirror_mode": {
    "name": "ipython",
    "version": 3
   },
   "file_extension": ".py",
   "mimetype": "text/x-python",
   "name": "python",
   "nbconvert_exporter": "python",
   "pygments_lexer": "ipython3",
   "version": "3.8.12"
  }
 },
 "nbformat": 4,
 "nbformat_minor": 5
}
